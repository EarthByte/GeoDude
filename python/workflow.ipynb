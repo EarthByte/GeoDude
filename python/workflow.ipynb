{
 "cells": [
  {
   "cell_type": "markdown",
   "metadata": {},
   "source": [
    "### Step 1: \n",
    "#### Generate Subduction Convergence Kinematics Statistics \n",
    "\n",
    "The [convergence.py](/edit/spatial-temporal-exploration/python/convergence.py) depends on the PlateTectonicTools, which can be found at [https://github.com/EarthByte/PlateTectonicTools.git](https://github.com/EarthByte/PlateTectonicTools.git).\n",
    "    \n",
    "\n",
    "The configuration parameters for convergence.py can be found in [parameters.py](/edit/spatial-temporal-exploration/python/parameters.py).\n",
    "\n",
    "Relevant parameters:\n",
    "* plate_tectonic_tools_path -- the path to the PlateTectonicTools code\n",
    "* rotation_files -- location of the rotation files\n",
    "* topology_files -- location of the topology files\n",
    "* threshold_sampling_distance_degrees -- the default threshold sampling distance along trenches (subduction zones)\n",
    "* time.start -- start time\n",
    "* time.end -- end time\n",
    "* time.step -- time interval between steps\n",
    "* velocity_delta_time -- time interval for velocity calculation\n",
    "* anchor_plate_id - the anchor plate id\n",
    "* convergence_data_filename_prefix -- the prefix of the output files\n",
    "* convergence_data_filename_ext -- the extension name of the output files\n",
    "* convergence_data_dir -- the name of the folder in which the output files go\n"
   ]
  },
  {
   "cell_type": "code",
   "execution_count": null,
   "metadata": {},
   "outputs": [],
   "source": [
    "import os, subprocess\n",
    "from parameters import parameters\n",
    "import convergence \n",
    "\n",
    "convergence.run_it()\n",
    "\n",
    "'''\n",
    "print('running python convergence.py...')\n",
    "print('this may take a while, be patient...')\n",
    "print('')\n",
    "\n",
    "p = subprocess.Popen(['python', 'convergence.py'], stdout=subprocess.PIPE, stderr=subprocess.PIPE)\n",
    "out, err = p.communicate()\n",
    "\n",
    "for line in out.split('\\n'):\n",
    "    print(line)\n",
    "    \n",
    "if p.returncode !=0:\n",
    "    for line in err.split('\\n'):\n",
    "        print(line)\n",
    "\n",
    "print('Check the output files in ' + parameters['convergence_data_dir'])\n",
    "print('file name prefix: {0}'.format(parameters['convergence_data_filename_prefix']))\n",
    "print('file name extension: {0}'.format(parameters['convergence_data_filename_ext']))\n",
    "'''"
   ]
  },
  {
   "cell_type": "markdown",
   "metadata": {},
   "source": [
    "### Optional step:\n",
    "#### Extract data from EarthChem data\n",
    "\n",
    "After generating the subduction convergence kinematics statistics, the sample points of trenches can be used to extract data from EarthChem data. \n",
    "    \n",
    "        Example: python extract_earth_chem.py EarthChem_all.csv output CU 5\n",
    "        \n",
    "This command line will extract data from locations which are within 5 degrees of a trench sample point and with a variable name CU. A shafefile(output.shp) and a csv file(output.csv) will be created for the extracted data.\n",
    "\n",
    "For more information about the usage of extract_earth_chem.py, run \"python extract_earth_chem.py -h\".\n",
    "\n",
    "The EarthChem_all.csv can be found here https://www.earthbyte.org/webdav/ftp/earthbyte/EarthChem/EarthChem_all.csv."
   ]
  },
  {
   "cell_type": "code",
   "execution_count": null,
   "metadata": {},
   "outputs": [],
   "source": [
    "import os, subprocess\n",
    "\n",
    "print('start extracting data....')\n",
    "print('')\n",
    "\n",
    "p = subprocess.Popen(['python', 'extract_earth_chem.py', 'EarthChem_all.csv', 'output', 'CU', '5'], \n",
    "                     stdout=subprocess.PIPE, stderr=subprocess.PIPE)\n",
    "out, err = p.communicate()\n",
    "\n",
    "for line in out.split('\\n'):\n",
    "    print(line)\n",
    "    \n",
    "if p.returncode !=0:\n",
    "    for line in err.split('\\n'):\n",
    "        print(line)\n",
    "        \n",
    "if p.returncode ==0:        \n",
    "    print('extract data completed successfully!')\n",
    "    print('Check the following four files in the current working directory')\n",
    "    print('output.csv  output.dbf  output.shp  output.shx')"
   ]
  },
  {
   "cell_type": "markdown",
   "metadata": {},
   "source": [
    "### Step 2:\n",
    "#### coregister data\n",
    "\n",
    "This step associates locations with the trench sample points. For a given location's coordinates, this script tries to find the nearest trench sample point within a certain region. If found, the subduction convergence kinematics statistics of the trench sample point will be associated with the given location. The coregistered data will be used as input for machine learning algorithms in step 3.\n",
    "\n",
    "Three files are created during the coregistration\n",
    "* andes_real_age.csv\n",
    "* andes_random_age.csv\n",
    "* trench_points.csv\n",
    "\n",
    "Data columns:\n",
    "\n",
    "* 0 lon\n",
    "* 1 lat\n",
    "* 2 reconstructed lon \n",
    "* 3 reconstructed lat \n",
    "* 4 age\n",
    "* 5 time\n",
    "* 6 age at reconstructed location (from age grid)\n",
    "* 7 subducting convergence (relative to trench) velocity magnitude (in cm/yr)\n",
    "* 8 subducting convergence velocity obliquity angle (angle between trench normal vector and convergence velocity vector)\n",
    "* 9 trench absolute (relative to anchor plate) velocity magnitude (in cm/yr)\n",
    "* 10 trench absolute velocity obliquity angle (angle between trench normal vector and trench absolute velocity vector)\n",
    "* 11 length of arc segment (in degrees) that current point is on\n",
    "* 12 trench normal azimuth angle (clockwise starting at North, ie, 0 to 360 degrees) at current point\n",
    "* 13 subducting plate ID\n",
    "* 14 trench plate ID\n",
    "* 15 distance (in degrees) along the trench line to the nearest trench edge\n",
    "* 16 the distance (in degrees) along the trench line from the start edge of the trench\n",
    "* 17 convergence velocity orthogonal (in cm/yr)\n",
    "* 18 convergence velocity parallel  (in cm/yr) \n",
    "* 19 the trench plate absolute velocity orthogonal (in cm/yr)\n",
    "* 20 the trench plate absolute velocity orthogonal (in cm/yr)\n",
    "* 21 the subducting plate absolute velocity magnitude (in cm/yr)\n",
    "* 22 the subducting plate absolute velocityobliquity angle (in degrees)\n",
    "* 23 the subducting plate absolute velocity orthogonal       \n",
    "* 24 the subducting plate absolute velocity parallel\n",
    "* 25 plate id of the input point"
   ]
  },
  {
   "cell_type": "code",
   "execution_count": null,
   "metadata": {},
   "outputs": [],
   "source": [
    "import os, subprocess\n",
    "\n",
    "print('start coregistration....')\n",
    "print('this may take a while, be patient...')\n",
    "print('')\n",
    "\n",
    "p = subprocess.Popen(['python', 'coregistration.py'], \n",
    "                     stdout=subprocess.PIPE, stderr=subprocess.PIPE)\n",
    "\n",
    "out, err = p.communicate()\n",
    "\n",
    "for line in out.split('\\n'):\n",
    "    print(line)\n",
    "    \n",
    "if p.returncode !=0:\n",
    "    for line in err.split('\\n'):\n",
    "        print(line)\n",
    "   \n",
    "if p.returncode ==0:        \n",
    "    print('coregistration completed successfully!')\n",
    "    print('check the following three files in the current working directory')\n",
    "    print('andes_random_age.csv  andes_real_age.csv trench_points.csv')\n"
   ]
  },
  {
   "cell_type": "markdown",
   "metadata": {},
   "source": [
    "### Step 3:\n",
    "### Data Wrangling\n",
    "Click [here](data_wrangling.ipynb) to open the Data Wrangling notebook."
   ]
  },
  {
   "cell_type": "markdown",
   "metadata": {},
   "source": [
    "### Step 4:\n",
    "\n",
    "#### Evaluate Machine Learning Models\n",
    "\n",
    "click [here](machine_learning_new.ipynb) to open Machine Learning notebook.\n"
   ]
  },
  {
   "cell_type": "code",
   "execution_count": null,
   "metadata": {},
   "outputs": [],
   "source": []
  },
  {
   "cell_type": "code",
   "execution_count": null,
   "metadata": {},
   "outputs": [],
   "source": []
  }
 ],
 "metadata": {
  "kernelspec": {
   "display_name": "Python 3",
   "language": "python",
   "name": "python3"
  },
  "language_info": {
   "codemirror_mode": {
    "name": "ipython",
    "version": 3
   },
   "file_extension": ".py",
   "mimetype": "text/x-python",
   "name": "python",
   "nbconvert_exporter": "python",
   "pygments_lexer": "ipython3",
   "version": "3.7.1"
  }
 },
 "nbformat": 4,
 "nbformat_minor": 2
}
